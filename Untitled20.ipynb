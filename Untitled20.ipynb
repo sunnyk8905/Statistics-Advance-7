{
 "cells": [
  {
   "cell_type": "code",
   "execution_count": null,
   "id": "c8db11c8-5bd0-4044-b8ed-dd21b1373b6a",
   "metadata": {},
   "outputs": [],
   "source": [
    "Q1. Write a Python function that takes in two arrays of data and calculates the F-value for a variance ratio\n",
    "test. The function should return the F-value and the corresponding p-value for the test."
   ]
  },
  {
   "cell_type": "code",
   "execution_count": 1,
   "id": "55ea236b-d25e-4ae0-a386-153539eb6ecf",
   "metadata": {},
   "outputs": [
    {
     "name": "stdout",
     "output_type": "stream",
     "text": [
      "F-value: 1.476923076923077\n",
      "p-value: 0.2589021750101298\n"
     ]
    }
   ],
   "source": [
    "import numpy as np\n",
    "import scipy.stats as stats\n",
    "\n",
    "def variance_ratio_test(data1, data2):\n",
    "    \"\"\"\n",
    "    Perform a variance ratio test (F-test) to compare the variances of two datasets.\n",
    "\n",
    "    Parameters:\n",
    "        data1 (array-like): First array of data.\n",
    "        data2 (array-like): Second array of data.\n",
    "\n",
    "    Returns:\n",
    "        F_value (float): The calculated F-value for the variance ratio test.\n",
    "        p_value (float): The corresponding p-value for the test.\n",
    "    \"\"\"\n",
    "    \n",
    "    data1 = np.array(data1)\n",
    "    data2 = np.array(data2)\n",
    "\n",
    "\n",
    "    F_value, p_value = stats.f_oneway(data1, data2)\n",
    "\n",
    "    return F_value, p_value\n",
    "\n",
    "# Example \n",
    "data1 = [10, 12, 14, 15, 18]\n",
    "data2 = [8, 9, 11, 13, 16]\n",
    "F_value, p_value = variance_ratio_test(data1, data2)\n",
    "print(\"F-value:\", F_value)\n",
    "print(\"p-value:\", p_value)\n"
   ]
  },
  {
   "cell_type": "code",
   "execution_count": null,
   "id": "3448db47-b97e-4541-96b1-e99ee14fb741",
   "metadata": {},
   "outputs": [],
   "source": [
    "Q2. Given a significance level of 0.05 and the degrees of freedom for the numerator and denominator of an\n",
    "F-distribution, write a Python function that returns the critical F-value for a two-tailed test."
   ]
  },
  {
   "cell_type": "code",
   "execution_count": 2,
   "id": "56c3e103-12b8-40e4-aae7-94c65a682601",
   "metadata": {},
   "outputs": [
    {
     "name": "stdout",
     "output_type": "stream",
     "text": [
      "Critical F-value: 3.8586986662732143\n"
     ]
    }
   ],
   "source": [
    "import scipy.stats as stats\n",
    "\n",
    "def critical_f_value(alpha, df_num, df_denom):\n",
    "    \"\"\"\n",
    "    Calculate the critical F-value for a two-tailed test.\n",
    "\n",
    "    Parameters:\n",
    "        alpha (float): Significance level (e.g., 0.05 for a 5% significance level).\n",
    "        df_num (int): Degrees of freedom for the numerator.\n",
    "        df_denom (int): Degrees of freedom for the denominator.\n",
    "\n",
    "    Returns:\n",
    "        critical_f (float): The critical F-value for the two-tailed test.\n",
    "    \"\"\"\n",
    "    \n",
    "    critical_f = stats.f.ppf(1 - alpha / 2, df_num, df_denom)\n",
    "\n",
    "    return critical_f\n",
    "\n",
    "# Example \n",
    "alpha = 0.05\n",
    "df_num = 3\n",
    "df_denom = 20\n",
    "critical_f = critical_f_value(alpha, df_num, df_denom)\n",
    "print(\"Critical F-value:\", critical_f)\n"
   ]
  },
  {
   "cell_type": "code",
   "execution_count": null,
   "id": "90aa2516-4b28-4c7c-879c-fcd591e68c74",
   "metadata": {},
   "outputs": [],
   "source": [
    "Q3. Write a Python program that generates random samples from two normal distributions with known\n",
    "\n",
    "variances and uses an F-test to determine if the variances are equal. The program should output the F-\n",
    "value, degrees of freedom, and p-value for the test."
   ]
  },
  {
   "cell_type": "code",
   "execution_count": 11,
   "id": "f5f97a13-cda1-40b7-be20-f3152c092681",
   "metadata": {},
   "outputs": [
    {
     "ename": "AttributeError",
     "evalue": "'f_gen' object has no attribute 'var__ratio'",
     "output_type": "error",
     "traceback": [
      "\u001b[0;31m---------------------------------------------------------------------------\u001b[0m",
      "\u001b[0;31mAttributeError\u001b[0m                            Traceback (most recent call last)",
      "Cell \u001b[0;32mIn[12], line 36\u001b[0m\n\u001b[1;32m     33\u001b[0m sample1 \u001b[38;5;241m=\u001b[39m np\u001b[38;5;241m.\u001b[39mrandom\u001b[38;5;241m.\u001b[39mnormal(loc\u001b[38;5;241m=\u001b[39m\u001b[38;5;241m10\u001b[39m, scale\u001b[38;5;241m=\u001b[39m\u001b[38;5;241m2\u001b[39m, size\u001b[38;5;241m=\u001b[39m\u001b[38;5;241m50\u001b[39m)  \u001b[38;5;66;03m# Sample 1 from N(10, 2^2)\u001b[39;00m\n\u001b[1;32m     34\u001b[0m sample2 \u001b[38;5;241m=\u001b[39m np\u001b[38;5;241m.\u001b[39mrandom\u001b[38;5;241m.\u001b[39mnormal(loc\u001b[38;5;241m=\u001b[39m\u001b[38;5;241m12\u001b[39m, scale\u001b[38;5;241m=\u001b[39m\u001b[38;5;241m2\u001b[39m, size\u001b[38;5;241m=\u001b[39m\u001b[38;5;241m50\u001b[39m)  \u001b[38;5;66;03m# Sample 2 from N(12, 2^2)\u001b[39;00m\n\u001b[0;32m---> 36\u001b[0m F_value, df_num, df_denom, p_value \u001b[38;5;241m=\u001b[39m \u001b[43mf_test_equal_variances\u001b[49m\u001b[43m(\u001b[49m\u001b[43msample1\u001b[49m\u001b[43m,\u001b[49m\u001b[43m \u001b[49m\u001b[43msample2\u001b[49m\u001b[43m)\u001b[49m\n\u001b[1;32m     38\u001b[0m \u001b[38;5;28mprint\u001b[39m(\u001b[38;5;124m\"\u001b[39m\u001b[38;5;124mF-value:\u001b[39m\u001b[38;5;124m\"\u001b[39m, F_value)\n\u001b[1;32m     39\u001b[0m \u001b[38;5;28mprint\u001b[39m(\u001b[38;5;124m\"\u001b[39m\u001b[38;5;124mDegrees of freedom (numerator):\u001b[39m\u001b[38;5;124m\"\u001b[39m, df_num)\n",
      "Cell \u001b[0;32mIn[12], line 23\u001b[0m, in \u001b[0;36mf_test_equal_variances\u001b[0;34m(sample1, sample2)\u001b[0m\n\u001b[1;32m     20\u001b[0m sample2 \u001b[38;5;241m=\u001b[39m np\u001b[38;5;241m.\u001b[39marray(sample2)\n\u001b[1;32m     22\u001b[0m \u001b[38;5;66;03m# Calculate the F-test\u001b[39;00m\n\u001b[0;32m---> 23\u001b[0m F_value, p_value \u001b[38;5;241m=\u001b[39m \u001b[43mstats\u001b[49m\u001b[38;5;241;43m.\u001b[39;49m\u001b[43mf\u001b[49m\u001b[38;5;241;43m.\u001b[39;49m\u001b[43mvar__ratio\u001b[49m(sample1, sample2)\n\u001b[1;32m     25\u001b[0m \u001b[38;5;66;03m# Calculate the degrees of freedom for the numerator and denominator\u001b[39;00m\n\u001b[1;32m     26\u001b[0m df_num \u001b[38;5;241m=\u001b[39m \u001b[38;5;28mlen\u001b[39m(sample1) \u001b[38;5;241m-\u001b[39m \u001b[38;5;241m1\u001b[39m\n",
      "\u001b[0;31mAttributeError\u001b[0m: 'f_gen' object has no attribute 'var__ratio'"
     ]
    }
   ],
   "source": [
    "import numpy as np\n",
    "import scipy.stats as stats\n",
    "\n",
    "def f_test_equal_variances(sample1, sample2):\n",
    "    \"\"\"\n",
    "    Perform an F-test to compare the variances of two random samples.\n",
    "\n",
    "    Parameters:\n",
    "        sample1 (array-like): First random sample.\n",
    "        sample2 (array-like): Second random sample.\n",
    "\n",
    "    Returns:\n",
    "        F_value (float): The calculated F-value for the F-test.\n",
    "        df_num (int): Degrees of freedom for the numerator.\n",
    "        df_denom (int): Degrees of freedom for the denominator.\n",
    "        p_value (float): The corresponding p-value for the F-test.\n",
    "    \"\"\"\n",
    "    # Convert samples to numpy arrays\n",
    "    sample1 = np.array(sample1)\n",
    "    sample2 = np.array(sample2)\n",
    "\n",
    "    # Calculate the F-test\n",
    "    F_value, p_value = stats.f.var_ratio(sample1, sample2)\n",
    "\n",
    "    # Calculate the degrees of freedom for the numerator and denominator\n",
    "    df_num = len(sample1) - 1\n",
    "    df_denom = len(sample2) - 1\n",
    "\n",
    "    return F_value, df_num, df_denom, p_value\n",
    "\n",
    "# Example usage:\n",
    "np.random.seed(42)  # For reproducibility\n",
    "sample1 = np.random.normal(loc=10, scale=2, size=50)  # Sample 1 from N(10, 2^2)\n",
    "sample2 = np.random.normal(loc=12, scale=2, size=50)  # Sample 2 from N(12, 2^2)\n",
    "\n",
    "F_value, df_num, df_denom, p_value = f_test_equal_variances(sample1, sample2)\n",
    "\n",
    "print(\"F-value:\", F_value)\n",
    "print(\"Degrees of freedom (numerator):\", df_num)\n",
    "print(\"Degrees of freedom (denominator):\", df_denom)\n",
    "print(\"p-value:\", p_value)\n"
   ]
  },
  {
   "cell_type": "code",
   "execution_count": null,
   "id": "73c904b2-d018-4cbf-8b41-b6d27c5c605c",
   "metadata": {},
   "outputs": [],
   "source": [
    "Q4.The variances of two populations are known to be 10 and 15. A sample of 12 observations is taken from\n",
    "each population. Conduct an F-test at the 5% significance level to determine if the variances are\n",
    "significantly different."
   ]
  },
  {
   "cell_type": "code",
   "execution_count": 13,
   "id": "05c2ce04-6f3d-46aa-9831-ab457daa0413",
   "metadata": {},
   "outputs": [
    {
     "name": "stdout",
     "output_type": "stream",
     "text": [
      "F-value: 1.5\n",
      "Critical F-value: 3.473699051085809\n",
      "p-value: 0.25619489936789974\n",
      "The variances are not significantly different.\n"
     ]
    }
   ],
   "source": [
    "import scipy.stats as stats\n",
    "\n",
    "def f_test(variance1, variance2, sample_size1, sample_size2):\n",
    "    \"\"\"\n",
    "    Perform an F-test to compare the variances of two populations.\n",
    "\n",
    "    Parameters:\n",
    "        variance1 (float): Variance of population 1.\n",
    "        variance2 (float): Variance of population 2.\n",
    "        sample_size1 (int): Sample size of population 1.\n",
    "        sample_size2 (int): Sample size of population 2.\n",
    "\n",
    "    Returns:\n",
    "        F_value (float): The calculated F-value for the F-test.\n",
    "        p_value (float): The corresponding p-value for the F-test.\n",
    "    \"\"\"\n",
    "    \n",
    "    F_value = variance2 / variance1\n",
    "\n",
    "    \n",
    "    df_num = sample_size2 - 1\n",
    "    df_denom = sample_size1 - 1\n",
    "\n",
    "    \n",
    "    p_value = 1 - stats.f.cdf(F_value, df_num, df_denom)\n",
    "\n",
    "    return F_value, p_value\n",
    "\n",
    "# Given data\n",
    "variance1 = 10\n",
    "variance2 = 15\n",
    "sample_size1 = 12\n",
    "sample_size2 = 12\n",
    "\n",
    "\n",
    "F_value, p_value = f_test(variance1, variance2, sample_size1, sample_size2)\n",
    "\n",
    "\n",
    "alpha = 0.05\n",
    "df_num = sample_size2 - 1\n",
    "df_denom = sample_size1 - 1\n",
    "critical_F = stats.f.ppf(1 - alpha / 2, df_num, df_denom)\n",
    "\n",
    "print(\"F-value:\", F_value)\n",
    "print(\"Critical F-value:\", critical_F)\n",
    "print(\"p-value:\", p_value)\n",
    "\n",
    "\n",
    "if F_value > critical_F:\n",
    "    print(\"The variances are significantly different.\")\n",
    "else:\n",
    "    print(\"The variances are not significantly different.\")\n"
   ]
  },
  {
   "cell_type": "code",
   "execution_count": null,
   "id": "f1a70f03-97ca-493d-aac8-753fa6b7ee02",
   "metadata": {},
   "outputs": [],
   "source": [
    "Q5. A manufacturer claims that the variance of the diameter of a certain product is 0.005. A sample of 25\n",
    "products is taken, and the sample variance is found to be 0.006. Conduct an F-test at the 1% significance\n",
    "level to determine if the claim is justified."
   ]
  },
  {
   "cell_type": "code",
   "execution_count": 14,
   "id": "ad469410-6304-4eac-a2d3-c5320396cd84",
   "metadata": {},
   "outputs": [
    {
     "name": "stdout",
     "output_type": "stream",
     "text": [
      "F-value: 1.2\n",
      "Critical F-value: nan\n",
      "p-value: nan\n",
      "The manufacturer's claim is justified. The sample variance is not significantly greater.\n"
     ]
    }
   ],
   "source": [
    "import scipy.stats as stats\n",
    "\n",
    "def f_test(sample_variance, claimed_variance, sample_size):\n",
    "    \"\"\"\n",
    "    Perform an F-test to compare the sample variance with a claimed variance.\n",
    "\n",
    "    Parameters:\n",
    "        sample_variance (float): Sample variance.\n",
    "        claimed_variance (float): Claimed variance.\n",
    "        sample_size (int): Sample size.\n",
    "\n",
    "    Returns:\n",
    "        F_value (float): The calculated F-value for the F-test.\n",
    "        p_value (float): The corresponding p-value for the F-test.\n",
    "    \"\"\"\n",
    "    \n",
    "    F_value = sample_variance / claimed_variance\n",
    "\n",
    "    \n",
    "    df_num = sample_size - 1\n",
    "    df_denom = 0  \n",
    "\n",
    "    \n",
    "    p_value = 1 - stats.f.cdf(F_value, df_num, df_denom)\n",
    "\n",
    "    return F_value, p_value\n",
    "\n",
    "# Given data\n",
    "claimed_variance = 0.005\n",
    "sample_variance = 0.006\n",
    "sample_size = 25\n",
    "\n",
    "\n",
    "F_value, p_value = f_test(sample_variance, claimed_variance, sample_size)\n",
    "\n",
    "\n",
    "alpha = 0.01\n",
    "df_num = sample_size - 1\n",
    "df_denom = 0\n",
    "critical_F = stats.f.ppf(1 - alpha, df_num, df_denom)\n",
    "\n",
    "print(\"F-value:\", F_value)\n",
    "print(\"Critical F-value:\", critical_F)\n",
    "print(\"p-value:\", p_value)\n",
    "\n",
    "\n",
    "if F_value > critical_F:\n",
    "    print(\"The manufacturer's claim is not justified. The sample variance is significantly greater.\")\n",
    "else:\n",
    "    print(\"The manufacturer's claim is justified. The sample variance is not significantly greater.\")\n"
   ]
  },
  {
   "cell_type": "code",
   "execution_count": null,
   "id": "0dd082c3-791b-41ee-ab7a-4685e770a26e",
   "metadata": {},
   "outputs": [],
   "source": [
    "Q6. Write a Python function that takes in the degrees of freedom for the numerator and denominator of an\n",
    "F-distribution and calculates the mean and variance of the distribution. The function should return the\n",
    "mean and variance as a tuple."
   ]
  },
  {
   "cell_type": "code",
   "execution_count": 15,
   "id": "3f728d41-4665-4d83-b9c6-219c3e0c1bf4",
   "metadata": {},
   "outputs": [
    {
     "name": "stdout",
     "output_type": "stream",
     "text": [
      "Mean: 1.1111111111111112\n",
      "Variance: 1.0802469135802468\n"
     ]
    }
   ],
   "source": [
    "def f_distribution_mean_variance(df_num, df_denom):\n",
    "    \"\"\"\n",
    "    Calculate the mean and variance of an F-distribution.\n",
    "\n",
    "    Parameters:\n",
    "        df_num (int): Degrees of freedom for the numerator.\n",
    "        df_denom (int): Degrees of freedom for the denominator.\n",
    "\n",
    "    Returns:\n",
    "        mean (float): Mean of the F-distribution.\n",
    "        variance (float): Variance of the F-distribution.\n",
    "    \"\"\"\n",
    "    \n",
    "    mean = df_denom / (df_denom - 2)\n",
    "    \n",
    "    variance = (2 * (df_denom**2) * (df_num + df_denom - 2)) / (df_num * (df_denom - 2)**2 * (df_denom - 4))\n",
    "\n",
    "    return mean, variance\n",
    "\n",
    "# Example \n",
    "df_num = 3\n",
    "df_denom = 20\n",
    "\n",
    "mean, variance = f_distribution_mean_variance(df_num, df_denom)\n",
    "print(\"Mean:\", mean)\n",
    "print(\"Variance:\", variance)\n"
   ]
  },
  {
   "cell_type": "code",
   "execution_count": null,
   "id": "379b0759-7150-482d-89e6-e3c065041d5e",
   "metadata": {},
   "outputs": [],
   "source": [
    "Q7. A random sample of 10 measurements is taken from a normal population with unknown variance. The\n",
    "sample variance is found to be 25. Another random sample of 15 measurements is taken from another\n",
    "normal population with unknown variance, and the sample variance is found to be 20. Conduct an F-test\n",
    "at the 10% significance level to determine if the variances are significantly different."
   ]
  },
  {
   "cell_type": "code",
   "execution_count": 16,
   "id": "663c8a34-9813-47c4-9f7b-4bc5cae9bf79",
   "metadata": {},
   "outputs": [
    {
     "name": "stdout",
     "output_type": "stream",
     "text": [
      "F-value: 0.8\n",
      "Critical F-value: 2.3510398087878683\n",
      "p-value: 0.6583902808707028\n",
      "The variances are not significantly different.\n"
     ]
    }
   ],
   "source": [
    "import scipy.stats as stats\n",
    "\n",
    "def f_test(sample_variance1, sample_variance2, sample_size1, sample_size2):\n",
    "    \"\"\"\n",
    "    Perform an F-test to compare the sample variances of two populations.\n",
    "\n",
    "    Parameters:\n",
    "        sample_variance1 (float): Sample variance of population 1.\n",
    "        sample_variance2 (float): Sample variance of population 2.\n",
    "        sample_size1 (int): Sample size of population 1.\n",
    "        sample_size2 (int): Sample size of population 2.\n",
    "\n",
    "    Returns:\n",
    "        F_value (float): The calculated F-value for the F-test.\n",
    "        p_value (float): The corresponding p-value for the F-test.\n",
    "    \"\"\"\n",
    "    F_value = sample_variance2 / sample_variance1\n",
    "    df_num = sample_size2 - 1\n",
    "    df_denom = sample_size1 - 1\n",
    "    p_value = 1 - stats.f.cdf(F_value, df_num, df_denom)\n",
    "\n",
    "    return F_value, p_value\n",
    "\n",
    "# Given data\n",
    "sample_variance1 = 25\n",
    "sample_variance2 = 20\n",
    "sample_size1 = 10\n",
    "sample_size2 = 15\n",
    "\n",
    "\n",
    "F_value, p_value = f_test(sample_variance1, sample_variance2, sample_size1, sample_size2)\n",
    "\n",
    "alpha = 0.10\n",
    "df_num = sample_size2 - 1\n",
    "df_denom = sample_size1 - 1\n",
    "critical_F = stats.f.ppf(1 - alpha, df_num, df_denom)\n",
    "\n",
    "print(\"F-value:\", F_value)\n",
    "print(\"Critical F-value:\", critical_F)\n",
    "print(\"p-value:\", p_value)\n",
    "\n",
    "\n",
    "if F_value > critical_F:\n",
    "    print(\"The variances are significantly different.\")\n",
    "else:\n",
    "    print(\"The variances are not significantly different.\")\n"
   ]
  },
  {
   "cell_type": "code",
   "execution_count": null,
   "id": "47b48123-7a33-4aeb-85fc-055b53139032",
   "metadata": {},
   "outputs": [],
   "source": [
    "Q8. The following data represent the waiting times in minutes at two different restaurants on a Saturday\n",
    "night: Restaurant A: 24, 25, 28, 23, 22, 20, 27; Restaurant B: 31, 33, 35, 30, 32, 36. Conduct an F-test at the 5%\n",
    "significance level to determine if the variances are significantly different."
   ]
  },
  {
   "cell_type": "code",
   "execution_count": 17,
   "id": "cf694d42-a4df-477b-9833-f84e60f2abb4",
   "metadata": {},
   "outputs": [
    {
     "name": "stdout",
     "output_type": "stream",
     "text": [
      "F-value: 0.6871951219512196\n",
      "Critical F-value: 4.387374187406127\n",
      "p-value: 0.6512592126031258\n",
      "The variances are not significantly different.\n"
     ]
    }
   ],
   "source": [
    "def f_test(sample1, sample2):\n",
    "    \"\"\"\n",
    "    Perform an F-test to compare the sample variances of two samples.\n",
    "\n",
    "    Parameters:\n",
    "        sample1 (array-like): Sample 1.\n",
    "        sample2 (array-like): Sample 2.\n",
    "\n",
    "    Returns:\n",
    "        F_value (float): The calculated F-value for the F-test.\n",
    "        p_value (float): The corresponding p-value for the F-test.\n",
    "    \"\"\"\n",
    "    \n",
    "    sample1 = np.array(sample1)\n",
    "    sample2 = np.array(sample2)\n",
    "\n",
    "    \n",
    "    sample_variance1 = np.var(sample1, ddof=1)\n",
    "    sample_variance2 = np.var(sample2, ddof=1)\n",
    "\n",
    "    \n",
    "    F_value = sample_variance2 / sample_variance1\n",
    "\n",
    "    \n",
    "    df_num = len(sample2) - 1\n",
    "    df_denom = len(sample1) - 1\n",
    "\n",
    "    \n",
    "    p_value = 1 - stats.f.cdf(F_value, df_num, df_denom)\n",
    "\n",
    "    return F_value, p_value\n",
    "\n",
    "# Given data\n",
    "restaurant_A = [24, 25, 28, 23, 22, 20, 27]\n",
    "restaurant_B = [31, 33, 35, 30, 32, 36]\n",
    "\n",
    "F_value, p_value = f_test(restaurant_A, restaurant_B)\n",
    "\n",
    "\n",
    "alpha = 0.05\n",
    "df_num = len(restaurant_B) - 1\n",
    "df_denom = len(restaurant_A) - 1\n",
    "critical_F = stats.f.ppf(1 - alpha, df_num, df_denom)\n",
    "\n",
    "print(\"F-value:\", F_value)\n",
    "print(\"Critical F-value:\", critical_F)\n",
    "print(\"p-value:\", p_value)\n",
    "\n",
    "\n",
    "if F_value > critical_F:\n",
    "    print(\"The variances are significantly different.\")\n",
    "else:\n",
    "    print(\"The variances are not significantly different.\")\n"
   ]
  },
  {
   "cell_type": "code",
   "execution_count": null,
   "id": "8cd1a4df-5808-4e0a-8b27-dbb3dfa16f9a",
   "metadata": {},
   "outputs": [],
   "source": [
    "Q9. The following data represent the test scores of two groups of students: Group A: 80, 85, 90, 92, 87, 83;\n",
    "Group B: 75, 78, 82, 79, 81, 84. Conduct an F-test at the 1% significance level to determine if the variances\n",
    "are significantly different."
   ]
  },
  {
   "cell_type": "code",
   "execution_count": 18,
   "id": "8944d5f6-17c3-483a-9361-61dda95ee75f",
   "metadata": {},
   "outputs": [
    {
     "name": "stdout",
     "output_type": "stream",
     "text": [
      "F-value: 0.5143338954468801\n",
      "Critical F-value: 10.967020650907992\n",
      "p-value: 0.7584478225464657\n",
      "The variances are not significantly different.\n"
     ]
    }
   ],
   "source": [
    "def f_test(sample1, sample2):\n",
    "    \"\"\"\n",
    "    Perform an F-test to compare the sample variances of two samples.\n",
    "\n",
    "    Parameters:\n",
    "        sample1 (array-like): Sample 1.\n",
    "        sample2 (array-like): Sample 2.\n",
    "\n",
    "    Returns:\n",
    "        F_value (float): The calculated F-value for the F-test.\n",
    "        p_value (float): The corresponding p-value for the F-test.\n",
    "    \"\"\"\n",
    "    \n",
    "    sample1 = np.array(sample1)\n",
    "    sample2 = np.array(sample2)\n",
    "\n",
    "    \n",
    "    sample_variance1 = np.var(sample1, ddof=1)\n",
    "    sample_variance2 = np.var(sample2, ddof=1)\n",
    "\n",
    "    # Calculate the F-value\n",
    "    F_value = sample_variance2 / sample_variance1\n",
    "\n",
    "    \n",
    "    df_num = len(sample2) - 1\n",
    "    df_denom = len(sample1) - 1\n",
    "\n",
    "    \n",
    "    p_value = 1 - stats.f.cdf(F_value, df_num, df_denom)\n",
    "\n",
    "    return F_value, p_value\n",
    "\n",
    "# Given data\n",
    "group_A = [80, 85, 90, 92, 87, 83]\n",
    "group_B = [75, 78, 82, 79, 81, 84]\n",
    "\n",
    "\n",
    "F_value, p_value = f_test(group_A, group_B)\n",
    "\n",
    "\n",
    "alpha = 0.01\n",
    "df_num = len(group_B) - 1\n",
    "df_denom = len(group_A) - 1\n",
    "critical_F = stats.f.ppf(1 - alpha, df_num, df_denom)\n",
    "\n",
    "print(\"F-value:\", F_value)\n",
    "print(\"Critical F-value:\", critical_F)\n",
    "print(\"p-value:\", p_value)\n",
    "\n",
    "\n",
    "if F_value > critical_F:\n",
    "    print(\"The variances are significantly different.\")\n",
    "else:\n",
    "    print(\"The variances are not significantly different.\")\n"
   ]
  },
  {
   "cell_type": "code",
   "execution_count": null,
   "id": "7ca61cc1-1f37-4947-a0a0-a1ee4e19f3ea",
   "metadata": {},
   "outputs": [],
   "source": []
  }
 ],
 "metadata": {
  "kernelspec": {
   "display_name": "Python 3 (ipykernel)",
   "language": "python",
   "name": "python3"
  },
  "language_info": {
   "codemirror_mode": {
    "name": "ipython",
    "version": 3
   },
   "file_extension": ".py",
   "mimetype": "text/x-python",
   "name": "python",
   "nbconvert_exporter": "python",
   "pygments_lexer": "ipython3",
   "version": "3.10.8"
  }
 },
 "nbformat": 4,
 "nbformat_minor": 5
}
